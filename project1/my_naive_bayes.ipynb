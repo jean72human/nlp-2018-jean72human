{
 "cells": [
  {
   "cell_type": "code",
   "execution_count": 124,
   "metadata": {},
   "outputs": [],
   "source": [
    "### NAIVE BAYES CLASS\n",
    "from nltk import word_tokenize\n",
    "import numpy as np\n",
    "import re\n",
    "class naive_classifier:\n",
    "    def __init__(self):\n",
    "        self.trained = False\n",
    "        self.ndoc = 0\n",
    "        self.classes = [\"positive\", \"negative\"]\n",
    "        self.nclasses = len(self.classes)\n",
    "        self.classCounts = [0 for i in range(self.nclasses)]\n",
    "        self.wordCounts = {c : dict() for c in range(self.nclasses) }\n",
    "        self.likelihoods = {c : dict() for c in range(self.nclasses) }\n",
    "        self.priors = [0 for i in range(self.nclasses)]\n",
    "        self.vocabulary = []\n",
    "\n",
    "    def _train(self, corpus):\n",
    "        self.ndoc = len(corpus)\n",
    "        for document in corpus:\n",
    "            review = document[0]\n",
    "            label = document[-1]\n",
    "            self.classCounts[label] += 1\n",
    "            for word in review:\n",
    "                if word in self.wordCounts[label].keys():\n",
    "                    self.wordCounts[label][word] += 1\n",
    "                else:\n",
    "                    self.wordCounts[label][word] = 1\n",
    "                    \n",
    "        for index in range(len(self.classes)):\n",
    "            self.priors[index] = np.log(self.classCounts[index]/self.ndoc)\n",
    "            self.vocabulary += list(self.wordCounts[index].keys())\n",
    "        for index in range(len(self.classes)):\n",
    "            for word in self.vocabulary:\n",
    "                if word in self.wordCounts[index]:\n",
    "                    self.likelihoods[index][word] = np.log((self.wordCounts[index][word]+1)/(self.classCounts[index]+1))\n",
    "                else:\n",
    "                    self.likelihoods[index][word] = np.log((1)/(self.classCounts[index]+1))\n",
    "                    \n",
    "        print (len(self.wordCounts[0]),len(self.wordCounts[1]))\n",
    "                \n",
    "            \n",
    "                           \n",
    "            \n",
    "        \n",
    "        \n",
    "    def _read(self, document):\n",
    "        toReturn = []\n",
    "        with open(document) as f:\n",
    "            for line in f.readlines():\n",
    "                pair = line.split('\\n')\n",
    "                pair = pair[0].split('\\t')\n",
    "                review = re.sub(r\"[,/?!-()*&^%|',]\",\"\",pair[0])\n",
    "                bag = word_tokenize(pair[0].lower())\n",
    "                label = int(pair[1])\n",
    "                toReturn.append((bag,label))\n",
    "        return toReturn\n",
    "    \n",
    "    def train(self, documents, test=False, split_ratio=0.3):\n",
    "        \"\"\"\n",
    "        Takes txt inputs and trains the classifier\n",
    "        \"\"\"\n",
    "        corpus = []\n",
    "        for doc in documents:\n",
    "            print (\"reading: \",doc)\n",
    "            for review in self._read(doc):\n",
    "                corpus.append(review)\n",
    "        if test:\n",
    "            np.random.shuffle(corpus)\n",
    "            split_point = int(len(corpus) * split_ratio)\n",
    "            test_data = corpus[:split_point]\n",
    "            train_data = corpus[split_point:]\n",
    "            self._train(train_data)\n",
    "            test_acc = self._test(test_data)\n",
    "            train_acc = self._test(train_data)\n",
    "            print (len(train_data),\" training items\")\n",
    "            print (len(test_data),\" testing items\")\n",
    "            print (\"Training done\")\n",
    "            print (\"Train accuracy: \",train_acc)\n",
    "            print (\"Test accuracy: \",test_acc)\n",
    "        else:\n",
    "            self._train(corpus)\n",
    "            print (\"Training done\")\n",
    "        self.trained = True\n",
    "        \n",
    "    def _predict(self, sentence):\n",
    "        import operator\n",
    "        \"\"\"\n",
    "        Takes tokenized input and outputs numerical class\n",
    "        \"\"\"\n",
    "        sumc = dict()\n",
    "        for c in range(self.nclasses):\n",
    "            sumc[c] = self.priors[c]\n",
    "            for word in sentence:\n",
    "                if word in self.vocabulary:\n",
    "                    sumc[c] += self.likelihoods[c][word]\n",
    "        return max(sumc.items(), key=operator.itemgetter(1))[0]\n",
    "    \n",
    "    def predict(self, text):\n",
    "        \"\"\"\n",
    "        Tokenize sentence, predicts and output class\n",
    "        \"\"\"\n",
    "        sentence = word_tokenize(text)\n",
    "        return self._predict(sentence)\n",
    "    \n",
    "    def _test(self, data):\n",
    "        n_items = len(data)\n",
    "        n_correct = 0\n",
    "        for document in data:\n",
    "            review = document[0]\n",
    "            label = document[-1]\n",
    "            c = self._predict(review)\n",
    "            if (c == label): n_correct += 1\n",
    "        return n_correct / n_items\n",
    "            \n",
    "            "
   ]
  },
  {
   "cell_type": "code",
   "execution_count": 125,
   "metadata": {
    "scrolled": true
   },
   "outputs": [
    {
     "name": "stdout",
     "output_type": "stream",
     "text": [
      "reading:  ./sentiment_labelled_sentences/amazon_cells_labelled.txt\n",
      "reading:  ./sentiment_labelled_sentences/imdb_labelled.txt\n",
      "reading:  ./sentiment_labelled_sentences/yelp_labelled.txt\n",
      "2920 3049\n",
      "2400  training items\n",
      "600  testing items\n",
      "Training done\n",
      "Train accuracy:  0.9416666666666667\n",
      "Test accuracy:  0.805\n"
     ]
    }
   ],
   "source": [
    "#from my_naive_bayes import naive_classifier\n",
    "\n",
    "classifier = naive_classifier()\n",
    "classifier.train([\"./sentiment_labelled_sentences/amazon_cells_labelled.txt\",\n",
    "                  \"./sentiment_labelled_sentences/imdb_labelled.txt\",\n",
    "                  \"./sentiment_labelled_sentences/yelp_labelled.txt\"],\n",
    "                 test=True,\n",
    "                 split_ratio=0.2)"
   ]
  },
  {
   "cell_type": "code",
   "execution_count": 102,
   "metadata": {},
   "outputs": [
    {
     "name": "stdout",
     "output_type": "stream",
     "text": [
      "0\n"
     ]
    }
   ],
   "source": [
    "testS = \"This experience was not bad\"\n",
    "print (classifier.predict(testS))"
   ]
  },
  {
   "cell_type": "code",
   "execution_count": null,
   "metadata": {
    "collapsed": true
   },
   "outputs": [],
   "source": []
  }
 ],
 "metadata": {
  "kernelspec": {
   "display_name": "Python 3",
   "language": "python",
   "name": "python3"
  }
 },
 "nbformat": 4,
 "nbformat_minor": 2
}
