{
 "cells": [
  {
   "cell_type": "code",
   "execution_count": 7,
   "metadata": {
    "collapsed": true
   },
   "outputs": [],
   "source": [
    "import numpy as np\n",
    "\n",
    "def costs(l1='!nspb',l2='!nspb'):\n",
    "    \"\"\"\n",
    "    Gives the deletion, insertion, and substitution cost for a pair of letters\n",
    "    \"\"\"\n",
    "    return (1,1,0) if l1 == l2 else (1,1,2)\n",
    "        \n",
    "\n",
    "def med(str1, str2):\n",
    "    \"\"\"\n",
    "    Takes two strings as input and outputs their minimum edit distance\n",
    "    \"\"\"\n",
    "    \n",
    "    m = len(str1)\n",
    "    n = len(str2)\n",
    "    \n",
    "    \n",
    "    ## costs\n",
    "    d, i, s = costs()\n",
    "    \n",
    "    D = np.zeros((m+1,n+1), np.int64)\n",
    "    \n",
    "    \n",
    "    ## intitialize array with base case\n",
    "    for k in range(1,m+1):\n",
    "        D[k,0] = D[k-1,0] + d\n",
    "        \n",
    "    for j in range(1,n+1):\n",
    "        D[0,j] = D[0,j-1] + i\n",
    "        \n",
    "    ## compute MEDistance\n",
    "    for k in range(1,m+1):\n",
    "        for j in range(1,n+1):\n",
    "            d,i,s = costs(str1[k-1],str2[j-1])\n",
    "            D[k,j] = min((D[k-1,j]+d),\n",
    "                         (D[k-1,j-1]+s),\n",
    "                         (D[k,j-1]+i))\n",
    "            \n",
    "    print (\"The minimum edit distance between\",str1,\" and \",str2,\" is: \",D[m,n])\n",
    "    "
   ]
  },
  {
   "cell_type": "code",
   "execution_count": 8,
   "metadata": {},
   "outputs": [
    {
     "name": "stdout",
     "output_type": "stream",
     "text": [
      "The minimum edit distance between intention  and  execution  is:  8\n"
     ]
    }
   ],
   "source": [
    "med(\"intention\",\"execution\")"
   ]
  }
 ],
 "metadata": {
  "kernelspec": {
   "display_name": "Python 3",
   "language": "python",
   "name": "python3"
  },
  "language_info": {
   "codemirror_mode": {
    "name": "ipython",
    "version": 3
   },
   "file_extension": ".py",
   "mimetype": "text/x-python",
   "name": "python",
   "nbconvert_exporter": "python",
   "pygments_lexer": "ipython3",
   "version": "3.6.3"
  }
 },
 "nbformat": 4,
 "nbformat_minor": 2
}
